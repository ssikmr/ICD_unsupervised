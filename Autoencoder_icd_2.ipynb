{
 "cells": [
  {
   "cell_type": "code",
   "execution_count": 1,
   "metadata": {},
   "outputs": [
    {
     "name": "stderr",
     "output_type": "stream",
     "text": [
      "Using TensorFlow backend.\n"
     ]
    }
   ],
   "source": [
    "import pickle\n",
    "import numpy as np\n",
    "import pandas as pd\n",
    "import re\n",
    "import nltk\n",
    "from nltk.corpus import stopwords\n",
    "from nltk.tokenize import sent_tokenize, word_tokenize\n",
    "from keras.models import Model, load_model\n",
    "from keras.layers import LSTM, Dense, TimeDistributed, Input, Masking, RepeatVector, Bidirectional, Embedding"
   ]
  },
  {
   "cell_type": "code",
   "execution_count": 2,
   "metadata": {},
   "outputs": [],
   "source": [
    "from keras.preprocessing.text import Tokenizer\n",
    "from keras.preprocessing.sequence import pad_sequences\n",
    "import matplotlib.pyplot as plt\n",
    "from keras.callbacks import ModelCheckpoint, EarlyStopping\n",
    "from sklearn.preprocessing import normalize\n",
    "from sklearn.metrics import pairwise\n",
    "from sklearn.preprocessing import normalize\n",
    "from sklearn.metrics import precision_recall_fscore_support\n",
    "from sklearn.metrics.pairwise import cosine_similarity\n",
    "import pickle\n",
    "import csv\n",
    "import os"
   ]
  },
  {
   "cell_type": "code",
   "execution_count": 3,
   "metadata": {},
   "outputs": [],
   "source": [
    "# import tensorflow as tf\n",
    "# tf.test.gpu_device_name()"
   ]
  },
  {
   "cell_type": "code",
   "execution_count": 4,
   "metadata": {},
   "outputs": [],
   "source": [
    "## HYPER-PARAMETERS\n",
    "\n",
    "num_words = 10000\n",
    "MAX_SEQUENCE_LENGTH = 16\n",
    "WORD_EMBEDDING_DIM = 200\n",
    "batch_size = 640\n",
    "ENCODING_DIM = 500\n",
    "NUM_DATAPOINT = -1 # All in the file\n",
    "NUM_ICD_CODES = 100\n",
    "NUM_EPOCHS = 2\n",
    "VALIDATION_SPLIT = 0.2\n",
    "PATIENCE = 5\n",
    "TOP_K_PER_SENTENCE = 10\n",
    "\n",
    "THRESHOLD = -1 # TODO\n",
    "\n",
    "ICD_DESC_FILENAME = './Description/ICD_desc_with_freq.csv'\n",
    "DD_FILENAME = 'MIMIC_III_Final_1000_clean_shorted.csv'\n",
    "TOKENIZER_FILE = 'tokenizer.pickle'\n",
    "EMB_FILE = './Embedding/PMC-w2v.bin'\n",
    "\n",
    "RESULT_FILENAME = './result.csv'\n",
    "#http://yaronvazana.com/2019/09/28/training-an-autoencoder-to-generate-text-embeddings/"
   ]
  },
  {
   "cell_type": "markdown",
   "metadata": {},
   "source": [
    "### ICD code description file"
   ]
  },
  {
   "cell_type": "code",
   "execution_count": 5,
   "metadata": {},
   "outputs": [
    {
     "name": "stdout",
     "output_type": "stream",
     "text": [
      "(6553, 4)\n",
      "Index(['Unnamed: 0', 'Code', 'Long Description', 'Frequency'], dtype='object')\n",
      "   Unnamed: 0   Code                                   Long Description  \\\n",
      "0           0   4019                 Unspecified essential hypertension   \n",
      "1           1   4280              Congestive heart failure, unspecified   \n",
      "2           2  42731                                Atrial fibrillation   \n",
      "3           3  41401  Coronary atherosclerosis of native coronary ar...   \n",
      "4           4   5849                  Acute kidney failure, unspecified   \n",
      "\n",
      "   Frequency  \n",
      "0      20053  \n",
      "1      12842  \n",
      "2      12594  \n",
      "3      12179  \n",
      "4       8907  \n"
     ]
    }
   ],
   "source": [
    "ICD_desc_filename = ICD_DESC_FILENAME\n",
    "df_icd = pd.read_csv(ICD_desc_filename, encoding = 'latin1')\n",
    "print(df_icd.shape)\n",
    "print(df_icd.columns)\n",
    "print(df_icd.head())"
   ]
  },
  {
   "cell_type": "code",
   "execution_count": 6,
   "metadata": {},
   "outputs": [
    {
     "name": "stdout",
     "output_type": "stream",
     "text": [
      "100 100 100\n",
      "ICD_Sentences =  100\n"
     ]
    }
   ],
   "source": [
    "icd_sentences = list(df_icd.head(NUM_ICD_CODES)['Long Description']) # Number of sentences\n",
    "icd_codes = list(df_icd.head(NUM_ICD_CODES)['Code'])\n",
    "icd_index = list(range(NUM_ICD_CODES))\n",
    "\n",
    "print(len(icd_sentences), len(icd_codes), len(icd_index))\n",
    "print(\"ICD_Sentences = \", len(icd_sentences))"
   ]
  },
  {
   "cell_type": "code",
   "execution_count": 7,
   "metadata": {},
   "outputs": [],
   "source": [
    "# 3 Dictionary of ICD index, ICD Code and ICD desc\n",
    "\n",
    "# index, codes\n",
    "dict_index_code = dict(zip(icd_index, icd_codes))\n",
    "\n",
    "# codes, index\n",
    "dict_code_index = dict(zip(icd_codes, icd_index))\n",
    "\n",
    "#index, code desc\n",
    "dict_index_desc = dict(zip(icd_index, icd_sentences))"
   ]
  },
  {
   "cell_type": "markdown",
   "metadata": {},
   "source": [
    "### Cleaned MIMIC-III DD file"
   ]
  },
  {
   "cell_type": "code",
   "execution_count": 8,
   "metadata": {},
   "outputs": [
    {
     "data": {
      "text/html": [
       "<div>\n",
       "<style scoped>\n",
       "    .dataframe tbody tr th:only-of-type {\n",
       "        vertical-align: middle;\n",
       "    }\n",
       "\n",
       "    .dataframe tbody tr th {\n",
       "        vertical-align: top;\n",
       "    }\n",
       "\n",
       "    .dataframe thead th {\n",
       "        text-align: right;\n",
       "    }\n",
       "</style>\n",
       "<table border=\"1\" class=\"dataframe\">\n",
       "  <thead>\n",
       "    <tr style=\"text-align: right;\">\n",
       "      <th></th>\n",
       "      <th>Unnamed: 0</th>\n",
       "      <th>Unnamed: 0.1</th>\n",
       "      <th>TEXT</th>\n",
       "      <th>HADM_ID</th>\n",
       "      <th>ICD9_CODE</th>\n",
       "      <th>clean_text</th>\n",
       "    </tr>\n",
       "  </thead>\n",
       "  <tbody>\n",
       "    <tr>\n",
       "      <th>0</th>\n",
       "      <td>38424</td>\n",
       "      <td>38424</td>\n",
       "      <td>{Admission Date:  [**2164-3-14**]             ...</td>\n",
       "      <td>172931.0</td>\n",
       "      <td>['5160', '3485', '51851', '486', '2762', '5180...</td>\n",
       "      <td>discharge diagnosis pulmonary alveolar protein...</td>\n",
       "    </tr>\n",
       "    <tr>\n",
       "      <th>1</th>\n",
       "      <td>2209</td>\n",
       "      <td>2209</td>\n",
       "      <td>{Admission Date:  [**2110-7-7**]       Dischar...</td>\n",
       "      <td>104113.0</td>\n",
       "      <td>['4240']</td>\n",
       "      <td>discharge diagnosis status post mitral valve r...</td>\n",
       "    </tr>\n",
       "    <tr>\n",
       "      <th>2</th>\n",
       "      <td>37528</td>\n",
       "      <td>37528</td>\n",
       "      <td>{Admission Date:  [**2123-10-4**]             ...</td>\n",
       "      <td>171221.0</td>\n",
       "      <td>['73028', '2851', '3004', '73719', '72293']</td>\n",
       "      <td>discharge diagnosis osteomyelitis l postoperat...</td>\n",
       "    </tr>\n",
       "    <tr>\n",
       "      <th>3</th>\n",
       "      <td>40528</td>\n",
       "      <td>40528</td>\n",
       "      <td>{Admission Date:  [**2192-9-18**]             ...</td>\n",
       "      <td>176918.0</td>\n",
       "      <td>['9982', '7907', '99811', '70703', '70722', '5...</td>\n",
       "      <td>discharge diagnosis cbd injury sp ccy at osh r...</td>\n",
       "    </tr>\n",
       "    <tr>\n",
       "      <th>4</th>\n",
       "      <td>41885</td>\n",
       "      <td>41885</td>\n",
       "      <td>{Admission Date:  [**2107-3-7**]              ...</td>\n",
       "      <td>179390.0</td>\n",
       "      <td>['40391', '5856', '99681', '25002']</td>\n",
       "      <td>discharge diagnosis esrd delayed graft functio...</td>\n",
       "    </tr>\n",
       "  </tbody>\n",
       "</table>\n",
       "</div>"
      ],
      "text/plain": [
       "   Unnamed: 0  Unnamed: 0.1  \\\n",
       "0       38424         38424   \n",
       "1        2209          2209   \n",
       "2       37528         37528   \n",
       "3       40528         40528   \n",
       "4       41885         41885   \n",
       "\n",
       "                                                TEXT   HADM_ID  \\\n",
       "0  {Admission Date:  [**2164-3-14**]             ...  172931.0   \n",
       "1  {Admission Date:  [**2110-7-7**]       Dischar...  104113.0   \n",
       "2  {Admission Date:  [**2123-10-4**]             ...  171221.0   \n",
       "3  {Admission Date:  [**2192-9-18**]             ...  176918.0   \n",
       "4  {Admission Date:  [**2107-3-7**]              ...  179390.0   \n",
       "\n",
       "                                           ICD9_CODE  \\\n",
       "0  ['5160', '3485', '51851', '486', '2762', '5180...   \n",
       "1                                           ['4240']   \n",
       "2        ['73028', '2851', '3004', '73719', '72293']   \n",
       "3  ['9982', '7907', '99811', '70703', '70722', '5...   \n",
       "4                ['40391', '5856', '99681', '25002']   \n",
       "\n",
       "                                          clean_text  \n",
       "0  discharge diagnosis pulmonary alveolar protein...  \n",
       "1  discharge diagnosis status post mitral valve r...  \n",
       "2  discharge diagnosis osteomyelitis l postoperat...  \n",
       "3  discharge diagnosis cbd injury sp ccy at osh r...  \n",
       "4  discharge diagnosis esrd delayed graft functio...  "
      ]
     },
     "execution_count": 8,
     "metadata": {},
     "output_type": "execute_result"
    }
   ],
   "source": [
    "DD_filename = DD_FILENAME\n",
    "df_DD = pd.read_csv(DD_filename)\n",
    "df_DD.head()"
   ]
  },
  {
   "cell_type": "code",
   "execution_count": 9,
   "metadata": {},
   "outputs": [
    {
     "name": "stdout",
     "output_type": "stream",
     "text": [
      "DD_sentences =  36185\n"
     ]
    }
   ],
   "source": [
    "DD_sentences = []\n",
    "for ind, row in df_DD.iterrows():\n",
    "    text = row['clean_text']\n",
    "    DD_sent = sent_tokenize(text)\n",
    "    DD_sentences = DD_sentences + DD_sent \n",
    "    \n",
    "print(\"DD_sentences = \", len(DD_sentences))\n",
    "    "
   ]
  },
  {
   "cell_type": "code",
   "execution_count": 10,
   "metadata": {},
   "outputs": [],
   "source": [
    "all_sentences = icd_sentences + DD_sentences"
   ]
  },
  {
   "cell_type": "markdown",
   "metadata": {},
   "source": [
    "### Tokenizer"
   ]
  },
  {
   "cell_type": "code",
   "execution_count": 11,
   "metadata": {},
   "outputs": [],
   "source": [
    "tokenizer = Tokenizer(num_words = num_words, split=' ')\n",
    "tokenizer.fit_on_texts(all_sentences)\n",
    "seqs = tokenizer.texts_to_sequences(all_sentences)\n",
    "pad_seqs = pad_sequences(seqs, MAX_SEQUENCE_LENGTH, padding='post')"
   ]
  },
  {
   "cell_type": "code",
   "execution_count": 12,
   "metadata": {},
   "outputs": [],
   "source": [
    "# SAVE tokenizer in a pickle file\n",
    "with open(TOKENIZER_FILE, 'wb') as handle:\n",
    "    pickle.dump(tokenizer, handle, protocol=pickle.HIGHEST_PROTOCOL)"
   ]
  },
  {
   "cell_type": "markdown",
   "metadata": {},
   "source": [
    "### Pre-Trained Word Embedding"
   ]
  },
  {
   "cell_type": "code",
   "execution_count": 13,
   "metadata": {},
   "outputs": [],
   "source": [
    "from gensim.models.keyedvectors import KeyedVectors\n",
    "word_model = KeyedVectors.load_word2vec_format(EMB_FILE, binary=True)"
   ]
  },
  {
   "cell_type": "code",
   "execution_count": 14,
   "metadata": {},
   "outputs": [
    {
     "name": "stdout",
     "output_type": "stream",
     "text": [
      "Found 2515686 word vectors.\n",
      "(200,)\n"
     ]
    }
   ],
   "source": [
    "print('Found %s word vectors.' % len(word_model.index2word))\n",
    "print(word_model['Cholera'].shape)"
   ]
  },
  {
   "cell_type": "code",
   "execution_count": 15,
   "metadata": {},
   "outputs": [],
   "source": [
    "# cosine_similarity([word_model['birth']],[word_model['born']] )"
   ]
  },
  {
   "cell_type": "code",
   "execution_count": 16,
   "metadata": {},
   "outputs": [
    {
     "name": "stdout",
     "output_type": "stream",
     "text": [
      "num_words =  10450\n"
     ]
    }
   ],
   "source": [
    "word_index = tokenizer.word_index\n",
    "num_words  = len(word_index) + 1\n",
    "print(\"num_words = \", num_words)"
   ]
  },
  {
   "cell_type": "markdown",
   "metadata": {},
   "source": [
    "### Bi-LSTM Encoder-Decoder Model"
   ]
  },
  {
   "cell_type": "code",
   "execution_count": 17,
   "metadata": {},
   "outputs": [],
   "source": [
    "embedding_matrix = np.zeros((len(word_index) + 1, WORD_EMBEDDING_DIM))\n",
    "for word, i in word_index.items():\n",
    "    if word in word_model.vocab:\n",
    "        embedding_matrix[i] = word_model[word]"
   ]
  },
  {
   "cell_type": "code",
   "execution_count": 18,
   "metadata": {},
   "outputs": [],
   "source": [
    "emb_layer = Embedding(len(word_index) + 1, WORD_EMBEDDING_DIM, \n",
    "                      weights=[embedding_matrix],\n",
    "                      input_length = MAX_SEQUENCE_LENGTH, name='Body-Word-Embedding',\n",
    "                      mask_zero = True, \n",
    "                     trainable=False)"
   ]
  },
  {
   "cell_type": "code",
   "execution_count": 19,
   "metadata": {},
   "outputs": [
    {
     "name": "stdout",
     "output_type": "stream",
     "text": [
      "10450 10450 (10450, 200)\n"
     ]
    }
   ],
   "source": [
    "print(len(word_index) + 1, num_words, embedding_matrix.shape )"
   ]
  },
  {
   "cell_type": "code",
   "execution_count": 20,
   "metadata": {},
   "outputs": [
    {
     "name": "stdout",
     "output_type": "stream",
     "text": [
      "WARNING:tensorflow:From /Users/shashikumar/miniconda3/envs/env_icd/lib/python3.7/site-packages/tensorflow_core/python/ops/resource_variable_ops.py:1630: calling BaseResourceVariable.__init__ (from tensorflow.python.ops.resource_variable_ops) with constraint is deprecated and will be removed in a future version.\n",
      "Instructions for updating:\n",
      "If using Keras pass *_constraint arguments to layers.\n",
      "WARNING:tensorflow:From /Users/shashikumar/miniconda3/envs/env_icd/lib/python3.7/site-packages/tensorflow_core/python/keras/backend.py:3994: where (from tensorflow.python.ops.array_ops) is deprecated and will be removed in a future version.\n",
      "Instructions for updating:\n",
      "Use tf.where in 2.0, which has the same broadcast rule as np.where\n"
     ]
    }
   ],
   "source": [
    "encoder_inputs = Input(shape=(MAX_SEQUENCE_LENGTH,), name='Encoder-Input')\n",
    "\n",
    "x = emb_layer(encoder_inputs)\n",
    "state_h = Bidirectional(LSTM(ENCODING_DIM//2, activation='relu', name='Encoder-Last-LSTM'))(x)\n",
    "encoder_model = Model(inputs=encoder_inputs, outputs=state_h, name='Encoder-Model')\n",
    "seq2seq_encoder_out = encoder_model(encoder_inputs)"
   ]
  },
  {
   "cell_type": "code",
   "execution_count": 21,
   "metadata": {},
   "outputs": [],
   "source": [
    "decoded = RepeatVector(MAX_SEQUENCE_LENGTH)(seq2seq_encoder_out)\n",
    "decoder_lstm = Bidirectional(LSTM(ENCODING_DIM//2, return_sequences=True, name='Decoder-LSTM-before'))\n",
    "decoder_lstm_output = decoder_lstm(decoded)\n",
    "decoder_dense = Dense(num_words, activation='softmax', name='Final-Output-Dense-before')\n",
    "decoder_outputs = decoder_dense(decoder_lstm_output)"
   ]
  },
  {
   "cell_type": "code",
   "execution_count": 22,
   "metadata": {},
   "outputs": [
    {
     "data": {
      "text/plain": [
       "TensorShape([Dimension(None), Dimension(16), Dimension(10450)])"
      ]
     },
     "execution_count": 22,
     "metadata": {},
     "output_type": "execute_result"
    }
   ],
   "source": [
    "decoder_outputs.shape"
   ]
  },
  {
   "cell_type": "code",
   "execution_count": 23,
   "metadata": {},
   "outputs": [
    {
     "name": "stdout",
     "output_type": "stream",
     "text": [
      "Model: \"model_1\"\n",
      "_________________________________________________________________\n",
      "Layer (type)                 Output Shape              Param #   \n",
      "=================================================================\n",
      "Encoder-Input (InputLayer)   (None, 16)                0         \n",
      "_________________________________________________________________\n",
      "Encoder-Model (Model)        (None, 500)               2992000   \n",
      "_________________________________________________________________\n",
      "repeat_vector_1 (RepeatVecto (None, 16, 500)           0         \n",
      "_________________________________________________________________\n",
      "bidirectional_2 (Bidirection (None, 16, 500)           1502000   \n",
      "_________________________________________________________________\n",
      "Final-Output-Dense-before (D (None, 16, 10450)         5235450   \n",
      "=================================================================\n",
      "Total params: 9,729,450\n",
      "Trainable params: 7,639,450\n",
      "Non-trainable params: 2,090,000\n",
      "_________________________________________________________________\n",
      "None\n"
     ]
    }
   ],
   "source": [
    "seq2seq_Model = Model(encoder_inputs, decoder_outputs)\n",
    "seq2seq_Model.compile(optimizer='adam', loss='sparse_categorical_crossentropy')\n",
    "\n",
    "print(seq2seq_Model.summary())\n"
   ]
  },
  {
   "cell_type": "code",
   "execution_count": 24,
   "metadata": {},
   "outputs": [
    {
     "name": "stdout",
     "output_type": "stream",
     "text": [
      "WARNING:tensorflow:From /Users/shashikumar/miniconda3/envs/env_icd/lib/python3.7/site-packages/keras/backend/tensorflow_backend.py:422: The name tf.global_variables is deprecated. Please use tf.compat.v1.global_variables instead.\n",
      "\n",
      "Train on 29028 samples, validate on 7257 samples\n",
      "Epoch 1/2\n",
      "29028/29028 [==============================] - 479s 17ms/step - loss: 5.4257 - val_loss: 4.5870\n",
      "\n",
      "Epoch 00001: val_loss improved from inf to 4.58696, saving model to best_model.h5\n",
      "Epoch 2/2\n",
      "29028/29028 [==============================] - 428s 15ms/step - loss: 4.6511 - val_loss: 4.5242\n",
      "\n",
      "Epoch 00002: val_loss improved from 4.58696 to 4.52415, saving model to best_model.h5\n"
     ]
    }
   ],
   "source": [
    "# simple early stopping\n",
    "es = EarlyStopping(monitor='val_loss', mode='min', verbose=1,  patience=PATIENCE)\n",
    "mc = ModelCheckpoint('best_model.h5', monitor='val_loss', mode='min', verbose=1, save_best_only=True)\n",
    "\n",
    "history = seq2seq_Model.fit(pad_seqs, np.expand_dims(pad_seqs, -1),\n",
    "            validation_split= VALIDATION_SPLIT,\n",
    "          batch_size=batch_size,\n",
    "          epochs=NUM_EPOCHS, callbacks=[es, mc])\n",
    "\n",
    "encoder_model.save(\"encoder_model.h5\")"
   ]
  },
  {
   "cell_type": "markdown",
   "metadata": {},
   "source": [
    "### TRAINING Bi-LSTM Autoencoder model"
   ]
  },
  {
   "cell_type": "code",
   "execution_count": 25,
   "metadata": {
    "scrolled": true
   },
   "outputs": [
    {
     "name": "stdout",
     "output_type": "stream",
     "text": [
      "dict_keys(['val_loss', 'loss'])\n"
     ]
    },
    {
     "data": {
      "image/png": "[encoded data removed]",
      "text/plain": [
       "<Figure size 432x288 with 1 Axes>"
      ]
     },
     "metadata": {
      "needs_background": "light"
     },
     "output_type": "display_data"
    }
   ],
   "source": [
    "# list all data in history\n",
    "print(history.history.keys())\n",
    "\n",
    "# summarize history for loss\n",
    "plt.plot(history.history['loss'])\n",
    "plt.plot(history.history['val_loss'])\n",
    "plt.title('model loss')\n",
    "plt.ylabel('loss')\n",
    "plt.xlabel('epoch')\n",
    "plt.legend(['train', 'test'], loc='upper left')\n",
    "plt.show()"
   ]
  },
  {
   "cell_type": "code",
   "execution_count": 26,
   "metadata": {},
   "outputs": [
    {
     "name": "stdout",
     "output_type": "stream",
     "text": [
      "Model: \"Encoder-Model\"\n",
      "_________________________________________________________________\n",
      "Layer (type)                 Output Shape              Param #   \n",
      "=================================================================\n",
      "Encoder-Input (InputLayer)   (None, 16)                0         \n",
      "_________________________________________________________________\n",
      "Body-Word-Embedding (Embeddi (None, 16, 200)           2090000   \n",
      "_________________________________________________________________\n",
      "bidirectional_1 (Bidirection (None, 500)               902000    \n",
      "=================================================================\n",
      "Total params: 2,992,000\n",
      "Trainable params: 902,000\n",
      "Non-trainable params: 2,090,000\n",
      "_________________________________________________________________\n"
     ]
    },
    {
     "name": "stderr",
     "output_type": "stream",
     "text": [
      "/Users/shashikumar/miniconda3/envs/env_icd/lib/python3.7/site-packages/keras/engine/saving.py:341: UserWarning: No training configuration found in save file: the model was *not* compiled. Compile it manually.\n",
      "  warnings.warn('No training configuration found in save file: '\n"
     ]
    }
   ],
   "source": [
    "# loading\n",
    "with open('tokenizer.pickle', 'rb') as handle:\n",
    "    tokenizer = pickle.load(handle)\n",
    "    \n",
    "# load model\n",
    "encoder_model = load_model('encoder_model.h5')\n",
    "# summarize model.\n",
    "encoder_model.summary()"
   ]
  },
  {
   "cell_type": "markdown",
   "metadata": {},
   "source": [
    "### Reverse tokenizer"
   ]
  },
  {
   "cell_type": "code",
   "execution_count": 27,
   "metadata": {},
   "outputs": [],
   "source": [
    "# Creating a reverse dictionary\n",
    "reverse_word_map = dict(map(reversed, tokenizer.word_index.items()))\n",
    "\n",
    "# Function takes a tokenized sentence and returns the words\n",
    "def sequence_to_text(list_of_indices):\n",
    "    # Looking up words in dictionary\n",
    "    words = [reverse_word_map.get(letter) for letter in list_of_indices]\n",
    "    return(words)\n"
   ]
  },
  {
   "cell_type": "code",
   "execution_count": 28,
   "metadata": {},
   "outputs": [],
   "source": [
    "def rowNorm(matrix):\n",
    "    return normalize(matrix, axis=1, norm='l2')"
   ]
  },
  {
   "cell_type": "markdown",
   "metadata": {},
   "source": [
    "### Check decoded sequence"
   ]
  },
  {
   "cell_type": "code",
   "execution_count": 29,
   "metadata": {},
   "outputs": [],
   "source": [
    "### Enocode and Decode\n",
    "def encode_decode(sentences):\n",
    "    for sent in sentences:\n",
    "        seq = tokenizer.texts_to_sequences([sent])\n",
    "        pad_seq = pad_sequences(seq, MAX_SEQUENCE_LENGTH, padding='post')\n",
    "        print(\"PAD_seq \", pad_seq)\n",
    "        sentence_vec = encoder_model.predict(pad_seq)[0]\n",
    "        # print(sentence_vec.shape)\n",
    "        decoded_seq = seq2seq_Model.predict(pad_seq)[0]\n",
    "        # print(\"decoded_seq = \", decoded_seq.shape)\n",
    "        decoded_sent = np.argmax(decoded_seq, axis = 1)\n",
    "        print(\"Decoded Sent: \", decoded_sent)\n",
    "        my_texts = list(map(sequence_to_text, [decoded_sent]))\n",
    "        print(\"INPUT: \", sent)\n",
    "        print(\"OUTPUT: \", [x for x in my_texts[0] if x != None])\n",
    "        print('-'* 10)"
   ]
  },
  {
   "cell_type": "code",
   "execution_count": 30,
   "metadata": {},
   "outputs": [
    {
     "name": "stdout",
     "output_type": "stream",
     "text": [
      "S - %d 0\n",
      "PAD_seq  [[1613 4052  167    0    0    0    0    0    0    0    0    0    0    0\n",
      "     0    0]]\n",
      "Decoded Sent:  [0 0 0 0 0 0 0 0 0 0 0 0 0 0 0 0]\n",
      "INPUT:  Unspecified essential hypertension\n",
      "OUTPUT:  []\n",
      "----------\n",
      "S - %d 1\n",
      "PAD_seq  [[ 441   74  126 1613    0    0    0    0    0    0    0    0    0    0\n",
      "     0    0]]\n",
      "Decoded Sent:  [0 0 0 0 0 0 0 0 0 0 0 0 0 0 0 0]\n",
      "INPUT:  Congestive heart failure, unspecified\n",
      "OUTPUT:  []\n",
      "----------\n",
      "S - %d 2\n",
      "PAD_seq  [[191 261   0   0   0   0   0   0   0   0   0   0   0   0   0   0]]\n",
      "Decoded Sent:  [0 0 0 0 0 0 0 0 0 0 0 0 0 0 0 0]\n",
      "INPUT:  Atrial fibrillation\n",
      "OUTPUT:  []\n",
      "----------\n",
      "S - %d 3\n",
      "PAD_seq  [[ 115 4053    4 2973  115   89    0    0    0    0    0    0    0    0\n",
      "     0    0]]\n",
      "Decoded Sent:  [0 0 0 0 0 0 0 0 0 0 0 0 0 0 0 0]\n",
      "INPUT:  Coronary atherosclerosis of native coronary artery\n",
      "OUTPUT:  []\n",
      "----------\n",
      "S - %d 4\n",
      "PAD_seq  [[ 150  591  126 1613    0    0    0    0    0    0    0    0    0    0\n",
      "     0    0]]\n",
      "Decoded Sent:  [0 0 0 0 0 0 0 0 0 0 0 0 0 0 0 0]\n",
      "INPUT:  Acute kidney failure, unspecified\n",
      "OUTPUT:  []\n",
      "----------\n",
      "S - %d 5\n",
      "PAD_seq  [[ 291  569  153 3737    4 1926  374  747   18 1613  374   46 1211   26\n",
      "  3283    0]]\n",
      "Decoded Sent:  [0 0 0 0 0 0 0 0 0 0 0 0 0 0 0 0]\n",
      "INPUT:  Diabetes mellitus without mention of complication, type II or unspecified type, not stated as uncontrolled\n",
      "OUTPUT:  []\n",
      "----------\n",
      "S - %d 6\n",
      "PAD_seq  [[ 195    2 1613  855    0    0    0    0    0    0    0    0    0    0\n",
      "     0    0]]\n",
      "Decoded Sent:  [0 0 0 0 0 0 0 0 0 0 0 0 0 0 0 0]\n",
      "INPUT:  Other and unspecified hyperlipidemia\n",
      "OUTPUT:  []\n",
      "----------\n",
      "S - %d 7\n",
      "PAD_seq  [[150 111 126   0   0   0   0   0   0   0   0   0   0   0   0   0]]\n",
      "Decoded Sent:  [0 0 0 0 0 0 0 0 0 0 0 0 0 0 0 0]\n",
      "INPUT:  Acute respiratory failure\n",
      "OUTPUT:  []\n",
      "----------\n",
      "S - %d 8\n",
      "PAD_seq  [[ 479  535  149  380   46 3486    0    0    0    0    0    0    0    0\n",
      "     0    0]]\n",
      "Decoded Sent:  [0 0 0 0 0 0 0 0 0 0 0 0 0 0 0 0]\n",
      "INPUT:  Urinary tract infection, site not specified\n",
      "OUTPUT:  []\n",
      "----------\n",
      "S - %d 9\n",
      "PAD_seq  [[1081 1032    0    0    0    0    0    0    0    0    0    0    0    0\n",
      "     0    0]]\n",
      "Decoded Sent:  [0 0 0 0 0 0 0 0 0 0 0 0 0 0 0 0]\n",
      "INPUT:  Esophageal reflux\n",
      "OUTPUT:  []\n",
      "----------\n",
      "S - %d 10\n",
      "PAD_seq  [[7145  632    0    0    0    0    0    0    0    0    0    0    0    0\n",
      "     0    0]]\n",
      "Decoded Sent:  [0 0 0 0 0 0 0 0 0 0 0 0 0 0 0 0]\n",
      "INPUT:  Pure hypercholesterolemia\n",
      "OUTPUT:  []\n",
      "----------\n",
      "S - %d 11\n",
      "PAD_seq  [[ 370 1613    0    0    0    0    0    0    0    0    0    0    0    0\n",
      "     0    0]]\n",
      "Decoded Sent:  [0 0 0 0 0 0 0 0 0 0 0 0 0 0 0 0]\n",
      "INPUT:  Anemia, unspecified\n",
      "OUTPUT:  []\n",
      "----------\n",
      "S - %d 12\n",
      "PAD_seq  [[1613 2326  766    0    0    0    0    0    0    0    0    0    0    0\n",
      "     0    0]]\n",
      "Decoded Sent:  [0 0 0 0 0 0 0 0 0 0 0 0 0 0 0 0]\n",
      "INPUT:  Unspecified acquired hypothyroidism\n",
      "OUTPUT:  []\n",
      "----------\n",
      "S - %d 13\n",
      "PAD_seq  [[ 217 3487 1613    0    0    0    0    0    0    0    0    0    0    0\n",
      "     0    0]]\n",
      "Decoded Sent:  [0 0 0 0 0 0 0 0 0 0 0 0 0 0 0 0]\n",
      "INPUT:  Pneumonia, organism unspecified\n",
      "OUTPUT:  []\n",
      "----------\n",
      "S - %d 14\n",
      "PAD_seq  [[ 150 7146  370    0    0    0    0    0    0    0    0    0    0    0\n",
      "     0    0]]\n",
      "Decoded Sent:  [0 0 0 0 0 0 0 0 0 0 0 0 0 0 0 0]\n",
      "INPUT:  Acute posthemorrhagic anemia\n",
      "OUTPUT:  []\n",
      "----------\n",
      "S - %d 15\n",
      "PAD_seq  [[1249    0    0    0    0    0    0    0    0    0    0    0    0    0\n",
      "     0    0]]\n",
      "Decoded Sent:  [22  0  0  0  0  0  0  0  0  0  0  0  0  0  0  0]\n",
      "INPUT:  Acidosis\n",
      "OUTPUT:  ['he']\n",
      "----------\n",
      "S - %d 16\n",
      "PAD_seq  [[ 177  693 1198   46 3488 4054    0    0    0    0    0    0    0    0\n",
      "     0    0]]\n",
      "Decoded Sent:  [0 0 0 0 0 0 0 0 0 0 0 0 0 0 0 0]\n",
      "INPUT:  Chronic airway obstruction, not elsewhere classified\n",
      "OUTPUT:  []\n",
      "----------\n",
      "S - %d 17\n",
      "PAD_seq  [[282 330   0   0   0   0   0   0   0   0   0   0   0   0   0   0]]\n",
      "Decoded Sent:  [0 0 0 0 0 0 0 0 0 0 0 0 0 0 0 0]\n",
      "INPUT:  Severe sepsis\n",
      "OUTPUT:  []\n",
      "----------\n",
      "S - %d 18\n",
      "PAD_seq  [[1063 1545 1363  263    4 5803    0    0    0    0    0    0    0    0\n",
      "     0    0]]\n",
      "Decoded Sent:  [0 0 0 0 0 0 0 0 0 0 0 0 0 0 0 0]\n",
      "INPUT:  Long-term (current) use of anticoagulants\n",
      "OUTPUT:  []\n",
      "----------\n",
      "S - %d 19\n",
      "PAD_seq  [[5019  215    3 2327    4 1229   18 4493    0    0    0    0    0    0\n",
      "     0    0]]\n",
      "Decoded Sent:  [0 0 0 0 0 0 0 0 0 0 0 0 0 0 0 0]\n",
      "INPUT:  Pneumonitis due to inhalation of food or vomitus\n",
      "OUTPUT:  []\n",
      "----------\n"
     ]
    }
   ],
   "source": [
    "FIRST_K_EXAMPLES = 20\n",
    "for ind in range(FIRST_K_EXAMPLES):\n",
    "    print(\"S - %d\", ind )\n",
    "    encode_decode([icd_sentences[ind]])"
   ]
  },
  {
   "cell_type": "code",
   "execution_count": 31,
   "metadata": {},
   "outputs": [],
   "source": [
    "### Encode all ICD codes\n",
    "def generate_sentence_encoding(sentences, l2_normalized = False):\n",
    "    seq = tokenizer.texts_to_sequences(sentences)\n",
    "    pad_seq = pad_sequences(seq, MAX_SEQUENCE_LENGTH, padding='post')\n",
    "    icd_encoded = encoder_model.predict(pad_seq)\n",
    "    print(icd_encoded.shape)\n",
    "    # Normalize\n",
    "    if l2_normalized:\n",
    "        norm_icd_encoded = normalize(icd_encoded, norm = 'l2', axis = 1)\n",
    "        return norm_icd_encoded\n",
    "    else:\n",
    "        return icd_encoded"
   ]
  },
  {
   "cell_type": "code",
   "execution_count": 32,
   "metadata": {},
   "outputs": [
    {
     "name": "stdout",
     "output_type": "stream",
     "text": [
      "(100, 500)\n"
     ]
    }
   ],
   "source": [
    "norm_icd_encoded = generate_sentence_encoding(icd_sentences, l2_normalized= True)"
   ]
  },
  {
   "cell_type": "markdown",
   "metadata": {},
   "source": [
    "### TOP_k ICD given a complete DD"
   ]
  },
  {
   "cell_type": "code",
   "execution_count": 33,
   "metadata": {},
   "outputs": [],
   "source": [
    "def generate_binary(icd_index_list, total_icd = NUM_ICD_CODES):\n",
    "    binary_icd = np.zeros(total_icd)\n",
    "    for x in icd_index_list:\n",
    "        binary_icd[x] = 1\n",
    "        \n",
    "    return binary_icd"
   ]
  },
  {
   "cell_type": "code",
   "execution_count": 34,
   "metadata": {},
   "outputs": [],
   "source": [
    "# TODO: threshold based assignment\n",
    "\n",
    "def top_ICD(text, top_k = 2, thre= THRESHOLD):  \n",
    "    sentences = sent_tokenize(text)\n",
    "    seq = tokenizer.texts_to_sequences(sentences)\n",
    "    pad_seq = pad_sequences(seq, MAX_SEQUENCE_LENGTH, padding='post')\n",
    "    sentence_vec = encoder_model.predict(pad_seq)\n",
    "    \n",
    "    #normalize\n",
    "    norm_sentence_vec = normalize(sentence_vec, norm = 'l2', axis = 1)\n",
    "    kernel_matrix = pairwise.linear_kernel(norm_sentence_vec, norm_icd_encoded)\n",
    "    top_k_sim_code = np.flip(kernel_matrix.argsort(axis = 1)[:, - top_k:], 1)\n",
    "    \n",
    "    icd_list = list(set(i for j in top_k_sim_code for i in j))\n",
    "\n",
    "    return icd_list\n",
    "    "
   ]
  },
  {
   "cell_type": "code",
   "execution_count": 35,
   "metadata": {},
   "outputs": [
    {
     "data": {
      "text/plain": [
       "[19, 69]"
      ]
     },
     "execution_count": 35,
     "metadata": {},
     "output_type": "execute_result"
    }
   ],
   "source": [
    "f_t = \"i have cholera and in past i also had diabetes mellitus.\" \n",
    "top_ICD(f_t, top_k = 2)"
   ]
  },
  {
   "cell_type": "markdown",
   "metadata": {},
   "source": [
    "### Results (Precision, recall, f1-measure, Support)"
   ]
  },
  {
   "cell_type": "code",
   "execution_count": 36,
   "metadata": {},
   "outputs": [],
   "source": [
    "# TOP_K_PER_SENTENCE = 10"
   ]
  },
  {
   "cell_type": "code",
   "execution_count": 37,
   "metadata": {},
   "outputs": [
    {
     "name": "stdout",
     "output_type": "stream",
     "text": [
      "ACT  ['5160', '3485', '51851', '486', '2762', '5180', '5121', '99701', '3481', 'V8543', '32723', '2724', '4275', 'E8798', '27801', '34510', 'V641', '2767']\n",
      "TOTAL  ['4019', '4280', '42731', '41401', '5849', '25000', '2724', '51881', '5990', '53081', '2720', '2859', '2449', '486', '2851', '2762', '496', '99592', 'V5861', '5070', '5859', '40390', '311', '3051', '412', '2875', '41071', '2761', 'V4581', '4240', 'V1582', '5119', 'V4582', '40391', 'V290', '4241', '78552', 'V5867', '42789', '32723', '9971', '5845', '2760', '7742', '5180', 'V053', '4168', '49390', '2767', '45829', '2749', '4589', '73300', '78039', '5856', '4271', '4254', '4111', 'V1251', '30000', '3572', '99811', '27800', '7907', 'E8798', '60000', '2930', '41400', '2768', 'V3001', '28521', '4439', 'V4501', '5789', '27651', '27652', 'E8788', '769', '431', '4275', 'V4986', '79902', '70703', '99591', '5715', '2639', 'V103', '42832', '42833', '99812', '42732', 'E8782', 'V1046', '49121', '99859', '5712', '2809', '27801', '42823', '25060']\n",
      "9.0\n"
     ]
    }
   ],
   "source": [
    "actu_icd_x = df_DD['ICD9_CODE'][0][2:-2].split(\"', '\")\n",
    "icd_id = [dict_code_index[x] for x in actu_icd_x if x in icd_codes]\n",
    "print(\"ACT \", actu_icd_x)\n",
    "print(\"TOTAL \", icd_codes)\n",
    "print(sum(generate_binary(icd_id)))"
   ]
  },
  {
   "cell_type": "code",
   "execution_count": 38,
   "metadata": {},
   "outputs": [
    {
     "name": "stdout",
     "output_type": "stream",
     "text": [
      "TIME =  37.6810188293457\n"
     ]
    }
   ],
   "source": [
    "import time\n",
    "start= time.time()\n",
    "pred_icd = []\n",
    "actu_icd = [] \n",
    "for ind, row in df_DD.iterrows():\n",
    "    text = row['clean_text']\n",
    "    icd_top = top_ICD(text, top_k = TOP_K_PER_SENTENCE)\n",
    "    pred_icd.append(generate_binary(icd_top))\n",
    "\n",
    "    actu_icd_codes = row['ICD9_CODE'][2:-2].split(\"', '\")\n",
    "    actu_icd_index = [dict_code_index[x] for x in actu_icd_codes if x in icd_codes]\n",
    "    actu_icd.append(generate_binary(actu_icd_index))\n",
    "\n",
    "print(\"TIME = \", time.time() - start)    "
   ]
  },
  {
   "cell_type": "code",
   "execution_count": 39,
   "metadata": {},
   "outputs": [
    {
     "name": "stdout",
     "output_type": "stream",
     "text": [
      "0.04816979906551847 0.42198972099853155 0.08646920545369065\n"
     ]
    }
   ],
   "source": [
    "precision, recall, f1_score, support = precision_recall_fscore_support(actu_icd, pred_icd, average = 'micro')\n",
    "print(precision, recall, f1_score)"
   ]
  },
  {
   "cell_type": "code",
   "execution_count": 40,
   "metadata": {},
   "outputs": [
    {
     "name": "stdout",
     "output_type": "stream",
     "text": [
      "Actual Codes =  5448.0\n",
      "Predicted Codes =  47727.0\n"
     ]
    }
   ],
   "source": [
    "total_actu = sum([sum(i) for i in actu_icd])\n",
    "total_pred = sum([sum(i) for i in pred_icd])\n",
    "print(\"Actual Codes = \", total_actu)\n",
    "print(\"Predicted Codes = \",total_pred )"
   ]
  },
  {
   "cell_type": "code",
   "execution_count": 41,
   "metadata": {},
   "outputs": [],
   "source": [
    "def save_to_csv(filename, row):\n",
    "    with open(RESULT_FILENAME, 'a') as f:\n",
    "        writer = csv.writer(f, delimiter=',')\n",
    "        writer.writerow(row)\n",
    "        f.close()"
   ]
  },
  {
   "cell_type": "markdown",
   "metadata": {},
   "source": [
    "### Save Results in CSV file"
   ]
  },
  {
   "cell_type": "code",
   "execution_count": 43,
   "metadata": {},
   "outputs": [
    {
     "name": "stdout",
     "output_type": "stream",
     "text": [
      "['16', '500', '100', '2', '10', '-1', '0.048', '0.422', '0.086', '5448.0', '47727.0']\n"
     ]
    }
   ],
   "source": [
    "row = [\"MAX_SEQUENCE_LENGTH\", \"ENCODING_DIM\", \"NUM_ICD_CODES\", \"MAX_EPOCHS\", \"TOP_K_PER_SENTENCE\",\n",
    "       \"THRESHOLD\", \"precision\", \"recall\", \"f1_score\", \"total_act\", \"total_pred\"]\n",
    "\n",
    "values_to_save = [MAX_SEQUENCE_LENGTH, ENCODING_DIM, NUM_ICD_CODES, NUM_EPOCHS, TOP_K_PER_SENTENCE,\n",
    "                  THRESHOLD, precision, recall, f1_score, total_actu, total_pred]\n",
    "\n",
    "if not os.path.isfile(RESULT_FILENAME):\n",
    "    save_to_csv(RESULT_FILENAME, row)\n",
    "    \n",
    "row = [str(round(x,3)) for x in values_to_save ]\n",
    "print(row)\n",
    "\n",
    "save_to_csv(RESULT_FILENAME, row)"
   ]
  },
  {
   "cell_type": "code",
   "execution_count": 44,
   "metadata": {},
   "outputs": [
    {
     "name": "stdout",
     "output_type": "stream",
     "text": [
      "Successfully Completed !!! CONGRATS !!!\n"
     ]
    }
   ],
   "source": [
    "print(\"Successfully Completed !!! CONGRATS !!!\")"
   ]
  },
  {
   "cell_type": "code",
   "execution_count": 45,
   "metadata": {},
   "outputs": [],
   "source": [
    "# 10 - 5 % recall\n",
    "# 5 - 3.4 % recall, 0.6 % Fscore\n",
    "# 2 - 2 %   recall, 0.7% Fscore"
   ]
  },
  {
   "cell_type": "code",
   "execution_count": null,
   "metadata": {},
   "outputs": [],
   "source": []
  }
 ],
 "metadata": {
  "kernelspec": {
   "display_name": "Python 3",
   "language": "python",
   "name": "python3"
  },
  "language_info": {
   "codemirror_mode": {
    "name": "ipython",
    "version": 3
   },
   "file_extension": ".py",
   "mimetype": "text/x-python",
   "name": "python",
   "nbconvert_exporter": "python",
   "pygments_lexer": "ipython3",
   "version": "3.7.6"
  }
 },
 "nbformat": 4,
 "nbformat_minor": 4
}
